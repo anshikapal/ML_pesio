{
 "metadata": {
  "language_info": {
   "codemirror_mode": {
    "name": "ipython",
    "version": 3
   },
   "file_extension": ".py",
   "mimetype": "text/x-python",
   "name": "python",
   "nbconvert_exporter": "python",
   "pygments_lexer": "ipython3",
   "version": "3.9.1-final"
  },
  "orig_nbformat": 2,
  "kernelspec": {
   "name": "python3",
   "display_name": "Python 3.9.1 64-bit",
   "metadata": {
    "interpreter": {
     "hash": "53196f645b6650222170b8eba77c303099e297fd4207a4dd5c20ef320a976874"
    }
   }
  }
 },
 "nbformat": 4,
 "nbformat_minor": 2,
 "cells": [
  {
   "source": [
    "import numpy as np\n",
    "import pandas as pd\n",
    "from sklearn import preprocessing\n",
    "from sklearn.model_selection import train_test_split\n",
    "from sklearn import svm\n",
    "import sklearn as sk"
   ],
   "cell_type": "code",
   "metadata": {},
   "execution_count": null,
   "outputs": []
  },
  {
   "cell_type": "code",
   "execution_count": 2,
   "metadata": {},
   "outputs": [
    {
     "output_type": "execute_result",
     "data": {
      "text/plain": [
       "     erythema  scaling  definite borders  itching  koebner phenomenon  \\\n",
       "0           2        2                 0        3                   0   \n",
       "1           3        3                 3        2                   1   \n",
       "2           2        1                 2        3                   1   \n",
       "3           2        2                 2        0                   0   \n",
       "4           2        3                 2        2                   2   \n",
       "..        ...      ...               ...      ...                 ...   \n",
       "361         2        1                 1        0                   1   \n",
       "362         3        2                 1        0                   1   \n",
       "363         3        2                 2        2                   3   \n",
       "364         2        1                 3        1                   2   \n",
       "365         3        2                 2        0                   0   \n",
       "\n",
       "     polygonal papules  follicular papules  oral mucosal involvement  \\\n",
       "0                    0                   0                         0   \n",
       "1                    0                   0                         0   \n",
       "2                    3                   0                         3   \n",
       "3                    0                   0                         0   \n",
       "4                    2                   0                         2   \n",
       "..                 ...                 ...                       ...   \n",
       "361                  0                   0                         0   \n",
       "362                  0                   0                         0   \n",
       "363                  2                   0                         2   \n",
       "364                  3                   0                         2   \n",
       "365                  0                   0                         0   \n",
       "\n",
       "     knee and elbow involvement  scalp involvement  ...  \\\n",
       "0                             1                  0  ...   \n",
       "1                             1                  1  ...   \n",
       "2                             0                  0  ...   \n",
       "3                             3                  2  ...   \n",
       "4                             0                  0  ...   \n",
       "..                          ...                ...  ...   \n",
       "361                           0                  0  ...   \n",
       "362                           0                  0  ...   \n",
       "363                           0                  0  ...   \n",
       "364                           0                  0  ...   \n",
       "365                           3                  3  ...   \n",
       "\n",
       "     disappearance of the granular layer  \\\n",
       "0                                      0   \n",
       "1                                      0   \n",
       "2                                      0   \n",
       "3                                      3   \n",
       "4                                      2   \n",
       "..                                   ...   \n",
       "361                                    0   \n",
       "362                                    1   \n",
       "363                                    0   \n",
       "364                                    0   \n",
       "365                                    2   \n",
       "\n",
       "     vacuolisation and damage of basal layer  spongiosis  \\\n",
       "0                                          0           3   \n",
       "1                                          0           0   \n",
       "2                                          2           3   \n",
       "3                                          0           0   \n",
       "4                                          3           2   \n",
       "..                                       ...         ...   \n",
       "361                                        0           1   \n",
       "362                                        0           1   \n",
       "363                                        3           0   \n",
       "364                                        2           0   \n",
       "365                                        0           0   \n",
       "\n",
       "     saw-tooth appearance of retes  follicular horn plug  \\\n",
       "0                                0                     0   \n",
       "1                                0                     0   \n",
       "2                                2                     0   \n",
       "3                                0                     0   \n",
       "4                                3                     0   \n",
       "..                             ...                   ...   \n",
       "361                              0                     0   \n",
       "362                              0                     0   \n",
       "363                              3                     0   \n",
       "364                              1                     0   \n",
       "365                              0                     0   \n",
       "\n",
       "     perifollicular parakeratosis  inflammatory monoluclear inflitrate  \\\n",
       "0                               0                                    1   \n",
       "1                               0                                    1   \n",
       "2                               0                                    2   \n",
       "3                               0                                    3   \n",
       "4                               0                                    2   \n",
       "..                            ...                                  ...   \n",
       "361                             0                                    2   \n",
       "362                             0                                    2   \n",
       "363                             0                                    2   \n",
       "364                             0                                    2   \n",
       "365                             0                                    3   \n",
       "\n",
       "     band-like infiltrate  Age  Class  \n",
       "0                       0   55      2  \n",
       "1                       0    8      1  \n",
       "2                       3   26      3  \n",
       "3                       0   40      1  \n",
       "4                       3   45      3  \n",
       "..                    ...  ...    ...  \n",
       "361                     0   25      4  \n",
       "362                     0   36      4  \n",
       "363                     3   28      3  \n",
       "364                     3   50      3  \n",
       "365                     0   35      1  \n",
       "\n",
       "[366 rows x 35 columns]"
      ],
      "text/html": "<div>\n<style scoped>\n    .dataframe tbody tr th:only-of-type {\n        vertical-align: middle;\n    }\n\n    .dataframe tbody tr th {\n        vertical-align: top;\n    }\n\n    .dataframe thead th {\n        text-align: right;\n    }\n</style>\n<table border=\"1\" class=\"dataframe\">\n  <thead>\n    <tr style=\"text-align: right;\">\n      <th></th>\n      <th>erythema</th>\n      <th>scaling</th>\n      <th>definite borders</th>\n      <th>itching</th>\n      <th>koebner phenomenon</th>\n      <th>polygonal papules</th>\n      <th>follicular papules</th>\n      <th>oral mucosal involvement</th>\n      <th>knee and elbow involvement</th>\n      <th>scalp involvement</th>\n      <th>...</th>\n      <th>disappearance of the granular layer</th>\n      <th>vacuolisation and damage of basal layer</th>\n      <th>spongiosis</th>\n      <th>saw-tooth appearance of retes</th>\n      <th>follicular horn plug</th>\n      <th>perifollicular parakeratosis</th>\n      <th>inflammatory monoluclear inflitrate</th>\n      <th>band-like infiltrate</th>\n      <th>Age</th>\n      <th>Class</th>\n    </tr>\n  </thead>\n  <tbody>\n    <tr>\n      <th>0</th>\n      <td>2</td>\n      <td>2</td>\n      <td>0</td>\n      <td>3</td>\n      <td>0</td>\n      <td>0</td>\n      <td>0</td>\n      <td>0</td>\n      <td>1</td>\n      <td>0</td>\n      <td>...</td>\n      <td>0</td>\n      <td>0</td>\n      <td>3</td>\n      <td>0</td>\n      <td>0</td>\n      <td>0</td>\n      <td>1</td>\n      <td>0</td>\n      <td>55</td>\n      <td>2</td>\n    </tr>\n    <tr>\n      <th>1</th>\n      <td>3</td>\n      <td>3</td>\n      <td>3</td>\n      <td>2</td>\n      <td>1</td>\n      <td>0</td>\n      <td>0</td>\n      <td>0</td>\n      <td>1</td>\n      <td>1</td>\n      <td>...</td>\n      <td>0</td>\n      <td>0</td>\n      <td>0</td>\n      <td>0</td>\n      <td>0</td>\n      <td>0</td>\n      <td>1</td>\n      <td>0</td>\n      <td>8</td>\n      <td>1</td>\n    </tr>\n    <tr>\n      <th>2</th>\n      <td>2</td>\n      <td>1</td>\n      <td>2</td>\n      <td>3</td>\n      <td>1</td>\n      <td>3</td>\n      <td>0</td>\n      <td>3</td>\n      <td>0</td>\n      <td>0</td>\n      <td>...</td>\n      <td>0</td>\n      <td>2</td>\n      <td>3</td>\n      <td>2</td>\n      <td>0</td>\n      <td>0</td>\n      <td>2</td>\n      <td>3</td>\n      <td>26</td>\n      <td>3</td>\n    </tr>\n    <tr>\n      <th>3</th>\n      <td>2</td>\n      <td>2</td>\n      <td>2</td>\n      <td>0</td>\n      <td>0</td>\n      <td>0</td>\n      <td>0</td>\n      <td>0</td>\n      <td>3</td>\n      <td>2</td>\n      <td>...</td>\n      <td>3</td>\n      <td>0</td>\n      <td>0</td>\n      <td>0</td>\n      <td>0</td>\n      <td>0</td>\n      <td>3</td>\n      <td>0</td>\n      <td>40</td>\n      <td>1</td>\n    </tr>\n    <tr>\n      <th>4</th>\n      <td>2</td>\n      <td>3</td>\n      <td>2</td>\n      <td>2</td>\n      <td>2</td>\n      <td>2</td>\n      <td>0</td>\n      <td>2</td>\n      <td>0</td>\n      <td>0</td>\n      <td>...</td>\n      <td>2</td>\n      <td>3</td>\n      <td>2</td>\n      <td>3</td>\n      <td>0</td>\n      <td>0</td>\n      <td>2</td>\n      <td>3</td>\n      <td>45</td>\n      <td>3</td>\n    </tr>\n    <tr>\n      <th>...</th>\n      <td>...</td>\n      <td>...</td>\n      <td>...</td>\n      <td>...</td>\n      <td>...</td>\n      <td>...</td>\n      <td>...</td>\n      <td>...</td>\n      <td>...</td>\n      <td>...</td>\n      <td>...</td>\n      <td>...</td>\n      <td>...</td>\n      <td>...</td>\n      <td>...</td>\n      <td>...</td>\n      <td>...</td>\n      <td>...</td>\n      <td>...</td>\n      <td>...</td>\n      <td>...</td>\n    </tr>\n    <tr>\n      <th>361</th>\n      <td>2</td>\n      <td>1</td>\n      <td>1</td>\n      <td>0</td>\n      <td>1</td>\n      <td>0</td>\n      <td>0</td>\n      <td>0</td>\n      <td>0</td>\n      <td>0</td>\n      <td>...</td>\n      <td>0</td>\n      <td>0</td>\n      <td>1</td>\n      <td>0</td>\n      <td>0</td>\n      <td>0</td>\n      <td>2</td>\n      <td>0</td>\n      <td>25</td>\n      <td>4</td>\n    </tr>\n    <tr>\n      <th>362</th>\n      <td>3</td>\n      <td>2</td>\n      <td>1</td>\n      <td>0</td>\n      <td>1</td>\n      <td>0</td>\n      <td>0</td>\n      <td>0</td>\n      <td>0</td>\n      <td>0</td>\n      <td>...</td>\n      <td>1</td>\n      <td>0</td>\n      <td>1</td>\n      <td>0</td>\n      <td>0</td>\n      <td>0</td>\n      <td>2</td>\n      <td>0</td>\n      <td>36</td>\n      <td>4</td>\n    </tr>\n    <tr>\n      <th>363</th>\n      <td>3</td>\n      <td>2</td>\n      <td>2</td>\n      <td>2</td>\n      <td>3</td>\n      <td>2</td>\n      <td>0</td>\n      <td>2</td>\n      <td>0</td>\n      <td>0</td>\n      <td>...</td>\n      <td>0</td>\n      <td>3</td>\n      <td>0</td>\n      <td>3</td>\n      <td>0</td>\n      <td>0</td>\n      <td>2</td>\n      <td>3</td>\n      <td>28</td>\n      <td>3</td>\n    </tr>\n    <tr>\n      <th>364</th>\n      <td>2</td>\n      <td>1</td>\n      <td>3</td>\n      <td>1</td>\n      <td>2</td>\n      <td>3</td>\n      <td>0</td>\n      <td>2</td>\n      <td>0</td>\n      <td>0</td>\n      <td>...</td>\n      <td>0</td>\n      <td>2</td>\n      <td>0</td>\n      <td>1</td>\n      <td>0</td>\n      <td>0</td>\n      <td>2</td>\n      <td>3</td>\n      <td>50</td>\n      <td>3</td>\n    </tr>\n    <tr>\n      <th>365</th>\n      <td>3</td>\n      <td>2</td>\n      <td>2</td>\n      <td>0</td>\n      <td>0</td>\n      <td>0</td>\n      <td>0</td>\n      <td>0</td>\n      <td>3</td>\n      <td>3</td>\n      <td>...</td>\n      <td>2</td>\n      <td>0</td>\n      <td>0</td>\n      <td>0</td>\n      <td>0</td>\n      <td>0</td>\n      <td>3</td>\n      <td>0</td>\n      <td>35</td>\n      <td>1</td>\n    </tr>\n  </tbody>\n</table>\n<p>366 rows × 35 columns</p>\n</div>"
     },
     "metadata": {},
     "execution_count": 2
    }
   ],
   "source": [
    "col_names=['erythema','scaling','definite borders','itching','koebner phenomenon','polygonal papules','follicular papules','oral mucosal involvement','knee and elbow involvement','scalp involvement','family history','melanin incontinence','eosinophils in the infiltrate','PNL infiltrate','fibrosis of the papillary dermis','exocytosis','acanthosis','hyperkeratosis','parakeratosis','clubbing of the rete ridges','elongation of the rete ridges','hinning of the suprapapillary epidermis','thinning of the suprapapillary epidermis','spongiform pustulemunro microabcess','focal hypergranulosis','disappearance of the granular layer','vacuolisation and damage of basal layer','spongiosis','saw-tooth appearance of retes','follicular horn plug','perifollicular parakeratosis','inflammatory monoluclear inflitrate','band-like infiltrate','Age','Class']                                              \n",
    "df=pd.read_csv('dermatology.data',names=col_names)\n",
    "df.replace('?',-99999,inplace=True)\n",
    "df"
   ]
  },
  {
   "cell_type": "code",
   "execution_count": 3,
   "metadata": {},
   "outputs": [],
   "source": [
    "# PREPROCESSING\n",
    "X=np.array(df.drop(['Class'],1))\n",
    "Y=np.array(df['Class'])"
   ]
  },
  {
   "cell_type": "code",
   "execution_count": 4,
   "metadata": {},
   "outputs": [],
   "source": [
    "X_train, X_test, Y_train, Y_test = train_test_split(X, Y, test_size=0.2, random_state=0)"
   ]
  },
  {
   "cell_type": "code",
   "execution_count": 5,
   "metadata": {},
   "outputs": [
    {
     "output_type": "execute_result",
     "data": {
      "text/plain": [
       "array([[ 1.4228872 ,  1.70272267,  0.48565747, ..., -1.17908789,\n",
       "        -0.49883223,  0.14521134],\n",
       "       [-0.1390792 ,  0.27809511,  0.48565747, ..., -1.17908789,\n",
       "        -0.49883223,  0.14401345],\n",
       "       [-0.1390792 , -1.14653245, -0.62224864, ...,  0.19808676,\n",
       "        -0.49883223,  0.14380206],\n",
       "       ...,\n",
       "       [-0.1390792 ,  0.27809511,  1.59356358, ...,  0.19808676,\n",
       "         1.32190541,  0.14591599],\n",
       "       [-0.1390792 , -1.14653245, -0.62224864, ..., -1.17908789,\n",
       "         0.41153659,  0.14309742],\n",
       "       [ 1.4228872 ,  0.27809511,  1.59356358, ..., -1.17908789,\n",
       "        -0.49883223,  0.14619784]])"
      ]
     },
     "metadata": {},
     "execution_count": 5
    }
   ],
   "source": [
    "scaler=preprocessing.StandardScaler().fit(X_train)\n",
    "X_train_transformed=scaler.transform(X_train)\n",
    "X_train_transformed"
   ]
  },
  {
   "cell_type": "code",
   "execution_count": 6,
   "metadata": {},
   "outputs": [],
   "source": [
    "X_test_transformed=scaler.transform(X_test)"
   ]
  },
  {
   "cell_type": "code",
   "execution_count": 7,
   "metadata": {},
   "outputs": [],
   "source": [
    "clf=svm.SVC(C=1)"
   ]
  },
  {
   "cell_type": "code",
   "execution_count": 8,
   "metadata": {},
   "outputs": [
    {
     "output_type": "execute_result",
     "data": {
      "text/plain": [
       "0.9864864864864865"
      ]
     },
     "metadata": {},
     "execution_count": 8
    }
   ],
   "source": [
    "clf.fit(X_train_transformed,Y_train)\n",
    "X_test_transformed=scaler.transform(X_test)\n",
    "conf=clf.score(X_test_transformed,Y_test)\n",
    "conf"
   ]
  },
  {
   "cell_type": "code",
   "execution_count": 9,
   "metadata": {},
   "outputs": [
    {
     "output_type": "execute_result",
     "data": {
      "text/plain": [
       "array([1], dtype=int64)"
      ]
     },
     "metadata": {},
     "execution_count": 9
    }
   ],
   "source": [
    "example_measures = np.array([[2,2,0,3,0,0,0,0,1,0,0,0,0,0,0,3,2,0,0,0,0,0,0,0,0,0,0,3,0,0,0,1,0,55]])\n",
    "example_measures = example_measures.reshape(len(example_measures),-1)\n",
    "prediction = clf.predict(example_measures)\n",
    "prediction"
   ]
  },
  {
   "cell_type": "code",
   "execution_count": null,
   "metadata": {},
   "outputs": [],
   "source": []
  }
 ]
}